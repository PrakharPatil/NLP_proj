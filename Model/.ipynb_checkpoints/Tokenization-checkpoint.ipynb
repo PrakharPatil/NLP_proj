{
 "cells": [
  {
   "cell_type": "markdown",
   "id": "103f28a8-b3cf-4871-ac7e-8882f76e514c",
   "metadata": {},
   "source": [
    "# Tokenization"
   ]
  },
  {
   "cell_type": "markdown",
   "id": "b67c8028-99ca-4aed-8c17-5e8b4a2cde35",
   "metadata": {},
   "source": [
    "## Loading data"
   ]
  },
  {
   "cell_type": "code",
   "execution_count": 1,
   "id": "9295f902-75db-4028-b7aa-78702482202f",
   "metadata": {},
   "outputs": [],
   "source": [
    "with open(\"../Data/L1.txt\") as f:\n",
    "    L1 = f.read()\n",
    "data = L1[:1000]"
   ]
  },
  {
   "cell_type": "code",
   "execution_count": 2,
   "id": "91810e51-7aab-4393-93e8-ecc91d07088c",
   "metadata": {},
   "outputs": [
    {
     "name": "stdout",
     "output_type": "stream",
     "text": [
      "Title: Alice's Adventures in Wonderland\n",
      "Author: Lewis Carroll\n",
      "Release date: June 27, 2008 [eBook #11]\n",
      "                Most recently updated: November 10, 2024\n",
      "Language: English\n",
      "Credits: Arthur DiBianc\n"
     ]
    }
   ],
   "source": [
    "print(data[:200])"
   ]
  },
  {
   "cell_type": "code",
   "execution_count": 3,
   "id": "f974a498-ec91-4b51-a3fa-29e6ae96a62b",
   "metadata": {},
   "outputs": [
    {
     "name": "stdout",
     "output_type": "stream",
     "text": [
      "14871952\n"
     ]
    }
   ],
   "source": [
    "print(len(L1))"
   ]
  },
  {
   "cell_type": "code",
   "execution_count": 4,
   "id": "fc1d34cd-f541-4918-9c0d-11fa5c70c263",
   "metadata": {},
   "outputs": [
    {
     "name": "stdout",
     "output_type": "stream",
     "text": [
      "1000\n"
     ]
    }
   ],
   "source": [
    "print(len(data))"
   ]
  },
  {
   "cell_type": "code",
   "execution_count": 5,
   "id": "a22bd948-ec3c-40a0-82b3-729b7c9d9d6d",
   "metadata": {},
   "outputs": [],
   "source": [
    "with open(\"../Data/L2.txt\") as f:\n",
    "    L2 = f.read()\n",
    "data2 = L2[:1000]"
   ]
  },
  {
   "cell_type": "code",
   "execution_count": 6,
   "id": "46cea290-e1cf-412b-a73c-47a778f0eaed",
   "metadata": {},
   "outputs": [
    {
     "name": "stdout",
     "output_type": "stream",
     "text": [
      "25930805\n",
      "1000\n"
     ]
    }
   ],
   "source": [
    "print(len(L2))\n",
    "print(len(data2))"
   ]
  },
  {
   "cell_type": "code",
   "execution_count": 7,
   "id": "f6a3793d-442c-4f83-b1d4-5bf9f32f5fc7",
   "metadata": {},
   "outputs": [
    {
     "name": "stdout",
     "output_type": "stream",
     "text": [
      "=== Book 1 ===\n",
      "The Declaration of Independence Of the United States Of America,\n",
      "===========================================================\n",
      "\n",
      "     NOTE:  This file combines the first two Project Gutenb\n"
     ]
    }
   ],
   "source": [
    "print(data2[:200])"
   ]
  },
  {
   "cell_type": "code",
   "execution_count": 8,
   "id": "0c9f878f-dee3-473e-9cb7-8c8548d44bc4",
   "metadata": {},
   "outputs": [],
   "source": [
    "with open(\"../Data/L3.txt\") as f:\n",
    "    L3 = f.read()\n",
    "data3 = L3[:1000]"
   ]
  },
  {
   "cell_type": "code",
   "execution_count": 9,
   "id": "1d1ab98f-bf6a-451a-aa74-4db2efd16371",
   "metadata": {},
   "outputs": [
    {
     "name": "stdout",
     "output_type": "stream",
     "text": [
      "26206426\n",
      "1000\n"
     ]
    }
   ],
   "source": [
    "print(len(L3))\n",
    "print(len(data3))"
   ]
  },
  {
   "cell_type": "code",
   "execution_count": 10,
   "id": "90bc588a-0578-4f33-949c-d1f213fc2ba6",
   "metadata": {},
   "outputs": [
    {
     "name": "stdout",
     "output_type": "stream",
     "text": [
      "URL: https://www.bbc.com/news/topics/c2vdnvdg6xxt\n",
      "Palestinian paramedic Munther Abed rejects Israel's assertion that the vehicles approached troops with their lights off.\n",
      "Many Palestinians say they ar\n"
     ]
    }
   ],
   "source": [
    "print(data3[:200])"
   ]
  },
  {
   "cell_type": "code",
   "execution_count": 11,
   "id": "57bb272b-6228-45ec-8e52-c539cffae7cf",
   "metadata": {},
   "outputs": [],
   "source": [
    "with open(\"../Data/L4.txt\") as f:\n",
    "    L4 = f.read()\n",
    "data4 = L4[:1000]"
   ]
  },
  {
   "cell_type": "code",
   "execution_count": 12,
   "id": "1c05cd9c-3780-412e-8ee6-66cb0f2e264f",
   "metadata": {},
   "outputs": [
    {
     "name": "stdout",
     "output_type": "stream",
     "text": [
      "18896924\n",
      "1000\n"
     ]
    }
   ],
   "source": [
    "print(len(L4))\n",
    "print(len(data4))"
   ]
  },
  {
   "cell_type": "code",
   "execution_count": 13,
   "id": "1515d888-99c2-45e0-b1fa-275963a44244",
   "metadata": {},
   "outputs": [
    {
     "name": "stdout",
     "output_type": "stream",
     "text": [
      "=== The LLM Wears Prada: Analysing Gender Bias and Stereotypes through Online Shopping Data ===\n",
      "Authors: Massimiliano Luca, Ciro Beneduce, Bruno Lepri, Jacopo Staiano\n",
      "Published: 2025-04-02\n",
      "URL: http:/\n"
     ]
    }
   ],
   "source": [
    "print(data4[:200])"
   ]
  },
  {
   "cell_type": "markdown",
   "id": "7b106a90-cadc-4327-8c9e-9882dec568b1",
   "metadata": {},
   "source": [
    "## EDA on Data"
   ]
  },
  {
   "cell_type": "code",
   "execution_count": 14,
   "id": "3f8a78ff-2a3e-4f79-9ce8-306047c0b3eb",
   "metadata": {},
   "outputs": [],
   "source": [
    "chars_l1 = sorted(list(set(L1)))\n",
    "vocab_size_l1 = len(chars_l1)"
   ]
  },
  {
   "cell_type": "code",
   "execution_count": 15,
   "id": "f1def8b8-7a73-47be-b409-e602c9aa6dcf",
   "metadata": {},
   "outputs": [
    {
     "name": "stdout",
     "output_type": "stream",
     "text": [
      "122\n",
      "\t\n",
      " !\"#$&'()*,-./0123456789:;=?ABCDEFGHIJKLMNOPQRSTUVWXYZ[]_`abcdefghijklmnopqrstuvwxyz{} ¦°ÃÆÉàâäæçèéêïñòôöøùüœαβ–—‘’“”′″\n"
     ]
    }
   ],
   "source": [
    "print(vocab_size_l1)\n",
    "print(''.join(chars_l1))"
   ]
  },
  {
   "cell_type": "code",
   "execution_count": 16,
   "id": "5b98c50f-f6c2-4596-9e4a-150a8a92d287",
   "metadata": {},
   "outputs": [],
   "source": [
    "chars_l2 = sorted(list(set(L2)))\n",
    "vocab_size_l2 = len(chars_l2)"
   ]
  },
  {
   "cell_type": "code",
   "execution_count": 17,
   "id": "dbaa6dce-921c-45c4-9807-0b5f145fc69c",
   "metadata": {},
   "outputs": [
    {
     "name": "stdout",
     "output_type": "stream",
     "text": [
      "164\n",
      "\n",
      " !\"#$%&'()*+,-./0123456789:;<=>?@ABCDEFGHIJKLMNOPQRSTUVWXYZ[\\]^_`abcdefghijklmnopqrstuvwxyz{|}~ £Æ×àáâäåæçèéêëíïñóôöùûüāŒœΑΛΤΦέίαβγεηικλμνξοπρςστυωόύϰוחἰὁᾶ–—‘’“”…′\n"
     ]
    }
   ],
   "source": [
    "print(vocab_size_l2)\n",
    "print(''.join(chars_l2))"
   ]
  },
  {
   "cell_type": "code",
   "execution_count": 18,
   "id": "1be6453c-5239-44b4-8635-82075595fafc",
   "metadata": {},
   "outputs": [],
   "source": [
    "chars_l3 = sorted(list(set(L3)))\n",
    "vocab_size_l3 = len(chars_l3)"
   ]
  },
  {
   "cell_type": "code",
   "execution_count": 19,
   "id": "9866d217-e587-4dd1-8bcc-b82f5336c923",
   "metadata": {},
   "outputs": [
    {
     "name": "stdout",
     "output_type": "stream",
     "text": [
      "83\n",
      "\n",
      " \"$%&'(),-./0123456789:=?ABCDEFGHIJKLMNOPQRSTUVWXYZ_abcdefghijklmnopqrstuvwxyz£É’…\n"
     ]
    }
   ],
   "source": [
    "print(vocab_size_l3)\n",
    "print(''.join(chars_l3))"
   ]
  },
  {
   "cell_type": "code",
   "execution_count": 20,
   "id": "d5b22302-8f0c-46f6-a25d-5d2887a73f9f",
   "metadata": {},
   "outputs": [],
   "source": [
    "chars_l4 = sorted(list(set(L4)))\n",
    "vocab_size_l4 = len(chars_l4)"
   ]
  },
  {
   "cell_type": "code",
   "execution_count": 21,
   "id": "05c3a733-4539-47b0-9d9f-abe33ef5a33d",
   "metadata": {},
   "outputs": [
    {
     "name": "stdout",
     "output_type": "stream",
     "text": [
      "1745\n",
      "\u0000\t\n",
      "\u000b",
      "\f",
      "\u000f\u0010\u0011\u0012\u0013\u0014\u0015\u0016\u0017\u0018\u0019\u001a\u001b\u001c",
      "\u001d",
      " !\"#$%&'()*+,-./0123456789:;<=>?@ABCDEFGHIJKLMNOPQRSTUVWXYZ[\\]^_`abcdefghijklmnopqrstuvwxyz{|}~ ¡¢£¥§¨©«¬­®¯°±²³´µ¶·¸¹º»¿ÀÁÂÄÅÇÉÍÐÓÔÖ×ØÚÜßàáâãäåæçèéêëìíïñòóôõöøùúüýÿăąćČčďęěğıĳŁłńňŒřśŞŠšţźżŽžƒǫˆˇˋ˘˙˚˛˜˝̸̂ΓΔΕΘΙΚΛΠΣΤΥΦΧΨΩήίαβγδεζηθικλμνξοπρςστυφχψωόύώϕϵПЧЪабвгдежзийклмнопрстуцчшыьєїاروڑیंइऔकगघजटठडतदधनपफबमयरलवसहाुेैॉोड़फ़।ংঅআউএকখগচটডতদধনবমযরহািুূে্ਂਅਓਕਗਚਜਟਣਤਦਧਨਪਫਬਮਰਲਵਸ਼ਸਹਾਿੀੁੂੇੈੋੱంఇఉఎకగచటడతదధనబమయరలవశసాిీుూేో్ขคงณดตทนบปผยรลวสหอะัำีุเแโใไ่้ᄀᄂᄃᄅᄇᄉᄋᄌᄏᄐᄑ하ᅢᅥᅩᅪᅬᅮᅳᅵᆨᆫᆯᆻᆼ  ​‌‐–—‘’‚“”„†‡•… ",
      " ‰′‹€⃗⃝ℎℒℓℕℝ™ℱℳⅠⅡⅢⅳ←↑→↓↔↦↾⇐⇒⇓⇔∀∂∃∅∆∇∈∏∑−∗√∝∞∥∧∨∩∪∫∶∼≃≈≜≠≡≤≥≦≪≫≺≻⊂⊆⊓⊔⊕⊗⊙⊛⊢⊣⊤⊥⊲⋄⋅⋆⋉⋯⌈⌉⌊⌋⌢〉⎡⎣⎤⎦⎧⎨⎩⎪␣①②③④⑤⑥⑦⑧⑨■□▲△▶▷◇●◦♠♡♢♣♦♭♮✅✓✔✗✘✦❌❓❶❷❸❹❺❻⟨⟩⨁⩾、。《》【】いうえおがくこさしすただちつてでとなにのまもよらるをアィウスツデブメラㄴㄹ一万三上下不与丑专且世业东两严个中丹为主么义之也习书买乱了二于互五亚些交亮亲人什仅从他代以们价任份优会传但位住体何余作你使來例供保信個們候假做像儿元先克免兒入全公六共其典内再冗写军冠冬冰决况准凉出刀分切划则创判別利别到刷刺剂剃前剛剩副力功加动助勇化医十升单卖南博危即历原去又及友反发取变句另只召可台史号各合同名后向吗否吧含吸呀呃周命和咧品哎哥哧哪唱商問善喜嘛四回因国图圈國在地场均坐城基報境增墨士处复外多大天太央奇奏奖女她好如妙妨妹始姐委子字存学孩學它宇安完官宙定实客害家宾察實对對小少尝就层居展属山崇州工差己已巴巾币市帅师希带師帮常干平年并幸幹序应底店度开式引张弱当形影往很後得循微德必忐忑志忙快怕思性怪总息恼您情惊想愈意感慢慰慶懈應戏成我或所手才扑打托找承把抱抽拙招择拿按挽据接推提握搅搜搭携摊撒放政效敬数整文料断斯新方旅无日旦早时明星春是時晒暗最會月有朋望木未本术机权材束条来松极构析林果枯染标校样根格案森樣横機橡橱次欧歉歌正此步歩殉残段母每比毛气水求江污汰汽没河治法波泥泳泼洒洲活流浆消淘混渐渡港游湖溅源漾激火灵炉炮点為烟烦热然照爱父爸片版牙物特独率玩环现球理瓜生用由电画畏當疑疾病的皮益盐目直相盾看真着睡矛知石破硝硬确碰示社祝神福离种科秘程稍稿空立笔符第答策签简算箱篇精系索終結纠红级纪纷织终经结绕给绝统缠缺网罗置美老考者而耗耽职联背胳胶能脑脚脸膊臂自致興舞航般船花芽英茶荐荡药获菜菱萌著葱虽行表被装裡裨西要覺观视觉解觸言話該認論警變讓计认让讪议记讶论证评识词试话该语误说请读谈谜质贴费资赫走起超越趟趣足跑距跟路身车载辆辑输达过近返还这进远述适选逐递這通速造逻遇過道遵避還邊那邻部都配酸里重量金钟铅错镇镜长问间闻防阴阿际陈陌階难雪電需青静非面鞭音題類须频题飞馆首马验高魂魄鲜麦麻麼點龙가간갖개건게계고국그까나내너넌널년노누는다단덧도되등디때란람랑러로르를리마말면명무물보부북불붙빠사상생서섰세셔수스시식실싶아어업었에엘엠여오용우웅원월은을의이익인일입있자장저적제좌지직초치칙테통트파페프하학한할횡車不參說了樂理ﬀﬁﬂﬃﬄﭘﮑﮔﮕﮧﮨﮯﯽﯾﯿ︀︁︂︃️ﺎﺗﺘﺪﺲﺳﺷﻞﻟﻮ！（），．：；？�𝐲𝐴𝐵𝐶𝐷𝐸𝐹𝐺𝐻𝐼𝐾𝐿𝑀𝑁𝑂𝑃𝑄𝑅𝑆𝑇𝑈𝑉𝑊𝑋𝑌𝑍𝑎𝑏𝑐𝑑𝑒𝑓𝑔𝑖𝑗𝑘𝑙𝑚𝑛𝑜𝑝𝑞𝑟𝑠𝑡𝑢𝑣𝑤𝑥𝑦𝑧𝑨𝑩𝑪𝑬𝑲𝑴𝑵𝑷𝑹𝑼𝑾𝑿𝒀𝒂𝒃𝒄𝒅𝒌𝒍𝒓𝒔𝒕𝒙𝒜𝒟𝒢𝒩𝒮𝒱𝒳𝓋𝔰𝔼𝙺𝙽𝙾𝚀𝚃𝚅𝚆𝚍𝛼𝛽𝛾𝛿𝜀𝜂𝜃𝜆𝜇𝜈𝜋𝜌𝜎𝜏𝜒𝜓𝜔𝜖𝜙𝜶𝝀𝝉𝝏𝝐𝞓𝟎𝟏𝟐𝟑𝟶𝟷𝟸𝟹𝟺𝟽𝟿💊🔥😡🤬\n"
     ]
    }
   ],
   "source": [
    "print(vocab_size_l4)\n",
    "print(''.join(chars_l4))"
   ]
  },
  {
   "cell_type": "code",
   "execution_count": 22,
   "id": "b2b5e4cf-5d84-47d8-8086-c0e5b2e542b2",
   "metadata": {},
   "outputs": [
    {
     "name": "stdout",
     "output_type": "stream",
     "text": [
      "✅ L4 cleaned and stored in L4_cleaned!\n"
     ]
    }
   ],
   "source": [
    "import re\n",
    "import emoji\n",
    "\n",
    "# Define allowed character sets\n",
    "english_regex = r\"[a-zA-Z0-9\\s]\"  # English letters, numbers, spaces\n",
    "math_symbols = r\"[\\+\\-\\*/=<>∑∫√πθΣ∂∞]\"  # Add more math symbols if needed\n",
    "special_chars = r\"[\\.,!?;:'\\\"()\\[\\]{}#@%^&*_~]\"  # Common special chars\n",
    "\n",
    "# Function to keep only emojis\n",
    "def keep_emojis(text):\n",
    "    return \"\".join(c for c in text if emoji.is_emoji(c))\n",
    "\n",
    "# Remove non-English, non-math, non-special, and non-emoji characters\n",
    "L4_cleaned = \"\".join(\n",
    "    c for c in L4 if re.match(english_regex, c) or \n",
    "                    re.match(math_symbols, c) or \n",
    "                    re.match(special_chars, c) or \n",
    "                    emoji.is_emoji(c)\n",
    ")\n",
    "\n",
    "# Now, L4_cleaned holds the cleaned version of L4\n",
    "print(\"✅ L4 cleaned and stored in L4_cleaned!\")"
   ]
  },
  {
   "cell_type": "code",
   "execution_count": 23,
   "id": "3e5c47ac-fc52-4d7c-9b08-e3a552d6bfbb",
   "metadata": {},
   "outputs": [],
   "source": [
    "chars_l4 = sorted(list(set(L4_cleaned)))\n",
    "vocab_size_l4 = len(chars_l4)"
   ]
  },
  {
   "cell_type": "code",
   "execution_count": 24,
   "id": "b6c1a9b3-364e-4dac-b6eb-c86966affbe7",
   "metadata": {},
   "outputs": [
    {
     "name": "stdout",
     "output_type": "stream",
     "text": [
      "126\n",
      "\t\n",
      "\u000b",
      "\f",
      "\u001c",
      "\u001d",
      " !\"#%&'()*+,-./0123456789:;<=>?@ABCDEFGHIJKLMNOPQRSTUVWXYZ[]^_abcdefghijklmnopqrstuvwxyz{}~ ©®Σθπ   ",
      " ™↔∂∑√∞∫▶♠♣♦✅✔❌❓💊🔥😡🤬\n"
     ]
    }
   ],
   "source": [
    "print(vocab_size_l4)\n",
    "print(''.join(chars_l4))"
   ]
  },
  {
   "cell_type": "markdown",
   "id": "e254296f-5fd4-4178-9e74-deae485c58a3",
   "metadata": {},
   "source": [
    "## Tokenizing as charaters"
   ]
  },
  {
   "cell_type": "code",
   "execution_count": 43,
   "id": "5d38ec12-f010-4c51-8aa3-f69d3772edeb",
   "metadata": {},
   "outputs": [],
   "source": [
    "# create a mapping from characters to integers\n",
    "stoi_l1 = { ch:i for i,ch in enumerate(chars_l1) }\n",
    "itos_l1 = { i:ch for i,ch in enumerate(chars_l1) }\n",
    "encode_l1 = lambda s: [stoi_l1[c] for c in s] # encoder: take a string, output a list of integers\n",
    "decode_l1 = lambda l: ''.join([itos_l1[i] for i in l]) # decoder: take a list of integers, output a string\n"
   ]
  },
  {
   "cell_type": "code",
   "execution_count": 26,
   "id": "28e91a47-e197-4614-9abc-83b774a4e152",
   "metadata": {},
   "outputs": [
    {
     "name": "stdout",
     "output_type": "stream",
     "text": [
      "[37, 68, 68, 2, 3, 3, 2, 37, 74, 82, 2, 60, 77, 64, 2, 84, 74, 80]\n"
     ]
    }
   ],
   "source": [
    "print(encode_l1(\"Hii !! How are you\"))"
   ]
  },
  {
   "cell_type": "code",
   "execution_count": 27,
   "id": "c684ade9-f6a2-42e9-af48-6445273e8b78",
   "metadata": {},
   "outputs": [
    {
     "name": "stdout",
     "output_type": "stream",
     "text": [
      "Hii !! How are you\n"
     ]
    }
   ],
   "source": [
    "print(decode_l1([37, 68, 68, 2, 3, 3, 2, 37, 74, 82, 2, 60, 77, 64, 2, 84, 74, 80]))"
   ]
  },
  {
   "cell_type": "code",
   "execution_count": 28,
   "id": "307f4655-3e93-41dd-9b14-d1bcb06a6c60",
   "metadata": {},
   "outputs": [],
   "source": [
    "# create a mapping from characters to integers\n",
    "stoi = { ch:i for i,ch in enumerate(chars_l2) }\n",
    "itos = { i:ch for i,ch in enumerate(chars_l2) }\n",
    "encode_l2 = lambda s: [stoi[c] for c in s] # encoder: take a string, output a list of integers\n",
    "decode_l2 = lambda l: ''.join([itos[i] for i in l]) # decoder: take a list of integers, output a string\n"
   ]
  },
  {
   "cell_type": "code",
   "execution_count": 29,
   "id": "67bfecc5-e353-4d16-8f93-dd544bc6892d",
   "metadata": {},
   "outputs": [
    {
     "name": "stdout",
     "output_type": "stream",
     "text": [
      "[41, 74, 74, 1, 2, 2, 1, 41, 80, 88, 1, 66, 83, 70, 1, 90, 80, 86]\n"
     ]
    }
   ],
   "source": [
    "print(encode_l2(\"Hii !! How are you\"))"
   ]
  },
  {
   "cell_type": "code",
   "execution_count": 30,
   "id": "9dccde12-e372-48b6-88ba-476317834b3b",
   "metadata": {},
   "outputs": [
    {
     "name": "stdout",
     "output_type": "stream",
     "text": [
      "Hii !! How are you\n"
     ]
    }
   ],
   "source": [
    "print(decode_l2([41, 74, 74, 1, 2, 2, 1, 41, 80, 88, 1, 66, 83, 70, 1, 90, 80, 86]))"
   ]
  },
  {
   "cell_type": "code",
   "execution_count": 31,
   "id": "02562007-3378-4e75-8324-1a8961734982",
   "metadata": {},
   "outputs": [],
   "source": [
    "# create a mapping from characters to integers\n",
    "stoi = { ch:i for i,ch in enumerate(chars_l3) }\n",
    "itos = { i:ch for i,ch in enumerate(chars_l3) }\n",
    "encode_l3 = lambda s: [stoi[c] for c in s] # encoder: take a string, output a list of integers\n",
    "decode_l3 = lambda l: ''.join([itos[i] for i in l]) # decoder: take a list of integers, output a string\n"
   ]
  },
  {
   "cell_type": "code",
   "execution_count": 32,
   "id": "bd600da4-c6d0-41ca-84d1-d6afae8f4ab8",
   "metadata": {},
   "outputs": [
    {
     "name": "stdout",
     "output_type": "stream",
     "text": [
      "[33, 61, 61, 1, 33, 67, 75, 1, 53, 70, 57, 1, 77, 67, 73, 1, 52, 52, 52, 60, 72, 72, 68, 71, 12, 12]\n"
     ]
    }
   ],
   "source": [
    "print(encode_l2(\"Hii How are you ___https//\"))"
   ]
  },
  {
   "cell_type": "code",
   "execution_count": 33,
   "id": "353b6945-0106-4de8-bf78-1e1985e7c543",
   "metadata": {},
   "outputs": [
    {
     "name": "stdout",
     "output_type": "stream",
     "text": [
      "Hii How are you ___https//\n"
     ]
    }
   ],
   "source": [
    "print(decode_l2([33, 61, 61, 1, 33, 67, 75, 1, 53, 70, 57, 1, 77, 67, 73, 1, 52, 52, 52, 60, 72, 72, 68, 71, 12, 12]))"
   ]
  },
  {
   "cell_type": "code",
   "execution_count": 34,
   "id": "c6427801-a843-4f4d-b762-4e95b0e64a14",
   "metadata": {},
   "outputs": [],
   "source": [
    "# create a mapping from characters to integers\n",
    "stoi = { ch:i for i,ch in enumerate(chars_l4) }\n",
    "itos = { i:ch for i,ch in enumerate(chars_l4) }\n",
    "encode_l4 = lambda s: [stoi[c] for c in s] # encoder: take a string, output a list of integers\n",
    "decode_l4 = lambda l: ''.join([itos[i] for i in l]) # decoder: take a list of integers, output a string\n"
   ]
  },
  {
   "cell_type": "code",
   "execution_count": 35,
   "id": "35c782b8-2a64-4f9b-a71d-0a0cea5a9858",
   "metadata": {},
   "outputs": [
    {
     "name": "stdout",
     "output_type": "stream",
     "text": [
      "[45, 76, 76, 6, 7, 7, 6, 45, 82, 90, 6, 68, 85, 72, 6, 92, 82, 88, 6, 123]\n"
     ]
    }
   ],
   "source": [
    "print(encode_l2(\"Hii !! How are you 🔥\"))"
   ]
  },
  {
   "cell_type": "code",
   "execution_count": 36,
   "id": "4b5d4535-a846-4abc-9d81-d79c5ba089b0",
   "metadata": {},
   "outputs": [
    {
     "name": "stdout",
     "output_type": "stream",
     "text": [
      "Hii !! How are you 🔥\n"
     ]
    }
   ],
   "source": [
    "print(decode_l2([45, 76, 76, 6, 7, 7, 6, 45, 82, 90, 6, 68, 85, 72, 6, 92, 82, 88, 6, 123]))"
   ]
  },
  {
   "cell_type": "code",
   "execution_count": 37,
   "id": "db237f5c-0485-497f-bfe8-99d4d3e02b51",
   "metadata": {},
   "outputs": [],
   "source": [
    "import torch\n",
    "import torch.nn as nn\n",
    "from torch.nn import functional as F"
   ]
  },
  {
   "cell_type": "code",
   "execution_count": 44,
   "id": "eab9683d-a1a5-4035-afc9-6d4517286653",
   "metadata": {},
   "outputs": [],
   "source": [
    "# Train and test splits\n",
    "data = torch.tensor(encode_l1(L1), dtype=torch.long)\n",
    "n = int(0.9*len(data)) # first 90% will be train, rest val\n",
    "train_data = data[:n]\n",
    "val_data = data[n:]"
   ]
  },
  {
   "cell_type": "code",
   "execution_count": 41,
   "id": "ed6476d0-3fe1-4135-822d-1e8ababe701c",
   "metadata": {},
   "outputs": [
    {
     "name": "stdout",
     "output_type": "stream",
     "text": [
      "Unique chars in L1: 122\n",
      "Characters in chars_l1: 122\n"
     ]
    }
   ],
   "source": [
    "print(\"Unique chars in L1:\", len(sorted(set(L1))))\n",
    "print(\"Characters in chars_l1:\", len(sorted(chars_l1)))"
   ]
  },
  {
   "cell_type": "code",
   "execution_count": 42,
   "id": "53f948c9-3754-42fc-9275-d68030a40863",
   "metadata": {},
   "outputs": [
    {
     "name": "stdout",
     "output_type": "stream",
     "text": [
      "stoi mapping: {'\\t': 0, '\\n': 1, '\\x0b': 2, '\\x0c': 3, '\\x1c': 4, '\\x1d': 5, ' ': 6, '!': 7, '\"': 8, '#': 9, '%': 10, '&': 11, \"'\": 12, '(': 13, ')': 14, '*': 15, '+': 16, ',': 17, '-': 18, '.': 19, '/': 20, '0': 21, '1': 22, '2': 23, '3': 24, '4': 25, '5': 26, '6': 27, '7': 28, '8': 29, '9': 30, ':': 31, ';': 32, '<': 33, '=': 34, '>': 35, '?': 36, '@': 37, 'A': 38, 'B': 39, 'C': 40, 'D': 41, 'E': 42, 'F': 43, 'G': 44, 'H': 45, 'I': 46, 'J': 47, 'K': 48, 'L': 49, 'M': 50, 'N': 51, 'O': 52, 'P': 53, 'Q': 54, 'R': 55, 'S': 56, 'T': 57, 'U': 58, 'V': 59, 'W': 60, 'X': 61, 'Y': 62, 'Z': 63, '[': 64, ']': 65, '^': 66, '_': 67, 'a': 68, 'b': 69, 'c': 70, 'd': 71, 'e': 72, 'f': 73, 'g': 74, 'h': 75, 'i': 76, 'j': 77, 'k': 78, 'l': 79, 'm': 80, 'n': 81, 'o': 82, 'p': 83, 'q': 84, 'r': 85, 's': 86, 't': 87, 'u': 88, 'v': 89, 'w': 90, 'x': 91, 'y': 92, 'z': 93, '{': 94, '}': 95, '~': 96, '\\xa0': 97, '©': 98, '®': 99, 'Σ': 100, 'θ': 101, 'π': 102, '\\u2008': 103, '\\u2009': 104, '\\u2028': 105, '\\u202f': 106, '™': 107, '↔': 108, '∂': 109, '∑': 110, '√': 111, '∞': 112, '∫': 113, '▶': 114, '♠': 115, '♣': 116, '♦': 117, '✅': 118, '✔': 119, '❌': 120, '❓': 121, '💊': 122, '🔥': 123, '😡': 124, '🤬': 125}\n"
     ]
    }
   ],
   "source": [
    "print(\"stoi mapping:\", stoi)\n"
   ]
  },
  {
   "cell_type": "code",
   "execution_count": null,
   "id": "01ad47f8-3e2e-4578-a95e-40f7c50768ca",
   "metadata": {},
   "outputs": [],
   "source": []
  }
 ],
 "metadata": {
  "kernelspec": {
   "display_name": "Python (venv)",
   "language": "python",
   "name": "venv"
  },
  "language_info": {
   "codemirror_mode": {
    "name": "ipython",
    "version": 3
   },
   "file_extension": ".py",
   "mimetype": "text/x-python",
   "name": "python",
   "nbconvert_exporter": "python",
   "pygments_lexer": "ipython3",
   "version": "3.13.2"
  }
 },
 "nbformat": 4,
 "nbformat_minor": 5
}
