{
 "cells": [
  {
   "cell_type": "code",
   "execution_count": 1,
   "id": "a95ccacd-30e6-42a8-a462-737668d256b3",
   "metadata": {},
   "outputs": [
    {
     "name": "stdout",
     "output_type": "stream",
     "text": [
      "First Citizen:\n",
      "Before we proceed any further, hear me speak.\n",
      "\n",
      "All:\n",
      "Speak, speak.\n",
      "\n",
      "First Citizen:\n",
      "You are all resolved rather to die than to famish?\n",
      "\n",
      "All:\n",
      "Resolved. resolved.\n",
      "\n",
      "First Citizen:\n",
      "First, you\n"
     ]
    }
   ],
   "source": [
    "with open('input.txt', 'r') as f:\n",
    "    text = f.read()\n",
    "data = text[:1000] # first 1,000 characters\n",
    "print(data[:200])\n"
   ]
  },
  {
   "cell_type": "code",
   "execution_count": 2,
   "id": "9f3d42c8-172c-4a82-be90-0510bee0d1f7",
   "metadata": {},
   "outputs": [
    {
     "name": "stdout",
     "output_type": "stream",
     "text": [
      "1115394\n"
     ]
    }
   ],
   "source": [
    "print(len(text))"
   ]
  },
  {
   "cell_type": "code",
   "execution_count": 3,
   "id": "69d22af2-77bf-4a7f-a18a-cc8bf7e3b99f",
   "metadata": {},
   "outputs": [
    {
     "name": "stdout",
     "output_type": "stream",
     "text": [
      "1000\n"
     ]
    }
   ],
   "source": [
    "print(len(data))"
   ]
  },
  {
   "cell_type": "code",
   "execution_count": 4,
   "id": "4e9572ab-92c5-4cbc-ab2b-8c5cab48bae6",
   "metadata": {},
   "outputs": [],
   "source": [
    "chars = sorted(list(set(text)))\n",
    "vocab_size = len(chars)"
   ]
  },
  {
   "cell_type": "code",
   "execution_count": 5,
   "id": "44093f1e-619a-4137-a5d1-954a800aa0a0",
   "metadata": {},
   "outputs": [
    {
     "name": "stdout",
     "output_type": "stream",
     "text": [
      "65\n"
     ]
    }
   ],
   "source": [
    "print(vocab_size)"
   ]
  },
  {
   "cell_type": "code",
   "execution_count": 6,
   "id": "df592fcb-2b14-48ee-93bf-05fd0b486698",
   "metadata": {},
   "outputs": [
    {
     "name": "stdout",
     "output_type": "stream",
     "text": [
      "\n",
      " !$&',-.3:;?ABCDEFGHIJKLMNOPQRSTUVWXYZabcdefghijklmnopqrstuvwxyz\n"
     ]
    }
   ],
   "source": [
    "print(''.join(chars))"
   ]
  },
  {
   "cell_type": "markdown",
   "id": "cfe035b3-27f0-4467-8fe5-34b9622e5f87",
   "metadata": {},
   "source": [
    "# Tokenization"
   ]
  },
  {
   "cell_type": "markdown",
   "id": "15239df9-4f9d-43f6-9238-3bdc1b5ea21e",
   "metadata": {},
   "source": [
    "## Character Tokeninzation"
   ]
  },
  {
   "cell_type": "code",
   "execution_count": 7,
   "id": "94cb1bc1-4d51-4b3d-9caa-09c555f1c064",
   "metadata": {},
   "outputs": [],
   "source": [
    "# create a mapping from characters to integers\n",
    "stoi = { ch:i for i,ch in enumerate(chars) }\n",
    "itos = { i:ch for i,ch in enumerate(chars) }\n",
    "encode = lambda s: [stoi[c] for c in s] # encoder: take a string, output a list of integers\n",
    "decode = lambda l: ''.join([itos[i] for i in l]) # decoder: take a list of integers, output a string\n"
   ]
  },
  {
   "cell_type": "markdown",
   "id": "10940c77-f1db-47e2-a627-f814628c8684",
   "metadata": {},
   "source": [
    "<pre>\n",
    "<b>stoi</b> = “string to integer”  \n",
    "→ A dictionary that maps each character in the list <i>chars</i> to a unique integer ID.\n",
    "\n",
    "<b>itos</b> = “integer to string”  \n",
    "→ A reverse dictionary that maps integers back to their corresponding characters.\n",
    "\n",
    "<b>Example:</b>\n",
    "    chars = ['a', 'b', 'c']\n",
    "\n",
    "    stoi = {'a': 0, 'b': 1, 'c': 2}\n",
    "    itos = {0: 'a', 1: 'b', 2: 'c'}\n",
    "\n",
    "<b>{ch: i for i, ch in enumerate(chars)}</b>  \n",
    "→ A dictionary comprehension.\n",
    "\n",
    "<b>Meaning:</b>\n",
    "    For each (i, ch) pair from enumerate(chars),\n",
    "    Create a dictionary entry where:\n",
    "        - key = ch\n",
    "        - value = i\n",
    "\n",
    "<b>Result:</b>\n",
    "    {'a': 0, 'b': 1, 'c': 2}\n",
    "\n",
    "This is called a \"lookup table\".\n",
    "In this case, it maps characters to integers.\n",
    "\n",
    "--------------------------------------------------\n",
    "\n",
    "<b>List Comprehension Syntax:</b>\n",
    "    [new_element for variable in iterable]\n",
    "\n",
    "<b>Equivalent to:</b>\n",
    "    result = []\n",
    "    for variable in iterable:\n",
    "        result.append(new_element)\n",
    "\n",
    "<b>Example:</b>\n",
    "    numbers = [1, 2, 3, 4]\n",
    "\n",
    "    # Using a loop:\n",
    "    squares = []\n",
    "    for num in numbers:\n",
    "        squares.append(num ** 2)\n",
    "\n",
    "    # Using list comprehension:\n",
    "    squares = [num ** 2 for num in numbers]\n",
    "\n",
    "--------------------------------------------------\n",
    "\n",
    "<b>Dictionary Comprehension Syntax:</b>\n",
    "    {key_expr: value_expr for item in iterable}\n",
    "\n",
    "<b>Example:</b>\n",
    "    squares_dict = {num: num ** 2 for num in range(5)}\n",
    "    # Output: {0: 0, 1: 1, 2: 4, 3: 9, 4: 16}\n",
    "\n",
    "--------------------------------------------------\n",
    "\n",
    "<b>Lambda Function Template:</b>\n",
    "    lambda arguments: expression\n",
    "\n",
    "<b>Example:</b>\n",
    "    add = lambda x, y: x + y\n",
    "    add(3, 5) => 8\n",
    "\n",
    "<b>encode = lambda s: [stoi[c] for c in s]</b>\n",
    "\n",
    "<b>Explanation:</b>\n",
    "    - Takes one input s (a string)\n",
    "    - Uses a list comprehension to:    \n",
    "        • Iterate over each character c in s  \n",
    "        • Look up its integer value from the 'stoi' dictionary  \n",
    "        • Return the list of integers (encoded form of the string)\n",
    "\n",
    "--------------------------------------------------\n",
    "\n",
    "<b>[stoi[c] for c in s]</b>\n",
    "    → A list comprehension.\n",
    "\n",
    "<b>General Template:</b>\n",
    "    [new_element for variable in iterable]\n",
    "\n",
    "<b>Equivalent to:</b>\n",
    "    result = []\n",
    "    for variable in iterable:\n",
    "        result.append(new_element)\n",
    "\n",
    "<b>So,</b>\n",
    "    [stoi[c] for c in s]\n",
    "\n",
    "<b>Is the same as:</b>\n",
    "    result = []\n",
    "    for c in s:\n",
    "        result.append(stoi[c])\n",
    "</pre>\n"
   ]
  },
  {
   "cell_type": "markdown",
   "id": "fcc26f02-a279-437d-9841-a759cff7554e",
   "metadata": {},
   "source": [
    "**How enumerate works** <br>\n",
    "*enumerate(chars) gives you pairs of (index, value) as you loop through the list.*\n"
   ]
  },
  {
   "cell_type": "code",
   "execution_count": 8,
   "id": "ee3ef900-ec28-49c3-a00b-32fc7882ae14",
   "metadata": {},
   "outputs": [
    {
     "name": "stdout",
     "output_type": "stream",
     "text": [
      "0 \n",
      "\n",
      "1  \n",
      "2 !\n",
      "3 $\n",
      "4 &\n",
      "5 '\n",
      "6 ,\n",
      "7 -\n",
      "8 .\n",
      "9 3\n",
      "10 :\n",
      "11 ;\n",
      "12 ?\n",
      "13 A\n",
      "14 B\n",
      "15 C\n",
      "16 D\n",
      "17 E\n",
      "18 F\n",
      "19 G\n"
     ]
    }
   ],
   "source": [
    "for i, ch in enumerate(chars[:20]):\n",
    "    print(i, ch)"
   ]
  },
  {
   "cell_type": "code",
   "execution_count": 9,
   "id": "c4bda807-4729-424a-8325-ec56dd6e0d9a",
   "metadata": {},
   "outputs": [
    {
     "name": "stdout",
     "output_type": "stream",
     "text": [
      "[20, 47, 47, 1, 2, 2, 1, 20, 53, 61, 1, 39, 56, 43, 1, 63, 53, 59]\n"
     ]
    }
   ],
   "source": [
    "print(encode(\"Hii !! How are you\"))"
   ]
  },
  {
   "cell_type": "code",
   "execution_count": 10,
   "id": "c3e675b3-d5e0-48bc-84a7-d0f8c89b0ce3",
   "metadata": {},
   "outputs": [
    {
     "name": "stdout",
     "output_type": "stream",
     "text": [
      "Hii !! How are you\n"
     ]
    }
   ],
   "source": [
    "print(decode([20, 47, 47, 1, 2, 2, 1, 20, 53, 61, 1, 39, 56, 43, 1, 63, 53, 59]))"
   ]
  },
  {
   "cell_type": "code",
   "execution_count": 11,
   "id": "ecab44e6-4713-40f9-a551-5721edeb95be",
   "metadata": {},
   "outputs": [
    {
     "name": "stdout",
     "output_type": "stream",
     "text": [
      "2.6.0\n"
     ]
    }
   ],
   "source": [
    "import torch\n",
    "print(torch.__version__)"
   ]
  },
  {
   "cell_type": "code",
   "execution_count": 12,
   "id": "d839056e-40e5-4bba-89f6-43f8d795124b",
   "metadata": {},
   "outputs": [],
   "source": [
    "import torch\n",
    "import torch.nn as nn\n",
    "from torch.nn import functional as F"
   ]
  },
  {
   "cell_type": "markdown",
   "id": "3df7fda6-1402-4234-b92d-aa19e6d1cace",
   "metadata": {},
   "source": [
    "## Train test split"
   ]
  },
  {
   "cell_type": "code",
   "execution_count": 13,
   "id": "5c18cf50-42eb-455b-bac8-c9da63e35ec2",
   "metadata": {},
   "outputs": [],
   "source": [
    "\n",
    "# Train and test splits\n",
    "data = torch.tensor(encode(text), dtype=torch.long)\n",
    "n = int(0.9*len(data)) # first 90% will be train, rest val\n",
    "train_data = data[:n]\n",
    "val_data = data[n:]"
   ]
  },
  {
   "cell_type": "code",
   "execution_count": 14,
   "id": "89abcf26-288f-4736-bb62-f09a581ea296",
   "metadata": {},
   "outputs": [
    {
     "name": "stdout",
     "output_type": "stream",
     "text": [
      "torch.Size([1115394]) torch.int64\n"
     ]
    }
   ],
   "source": [
    "print(data.shape,data.dtype)"
   ]
  },
  {
   "cell_type": "code",
   "execution_count": 15,
   "id": "9086466c-6ced-41bb-832b-ef9f6e13d354",
   "metadata": {},
   "outputs": [
    {
     "name": "stdout",
     "output_type": "stream",
     "text": [
      "tensor([18, 47, 56, 57, 58,  1, 15, 47, 58, 47, 64, 43, 52, 10,  0, 14, 43, 44,\n",
      "        53, 56, 43,  1, 61, 43,  1, 54, 56, 53, 41, 43, 43, 42,  1, 39, 52, 63,\n",
      "         1, 44, 59, 56, 58, 46, 43, 56,  6,  1, 46, 43, 39, 56,  1, 51, 43,  1,\n",
      "        57, 54, 43, 39, 49,  8,  0,  0, 13, 50, 50, 10,  0, 31, 54, 43, 39, 49,\n",
      "         6,  1, 57, 54, 43, 39, 49,  8,  0,  0, 18, 47, 56, 57, 58,  1, 15, 47,\n",
      "        58, 47, 64, 43, 52, 10,  0, 37, 53, 59,  1, 39, 56, 43,  1, 39, 50, 50,\n",
      "         1, 56, 43, 57, 53, 50, 60, 43, 42,  1, 56, 39, 58, 46, 43, 56,  1, 58,\n",
      "        53,  1, 42, 47, 43,  1, 58, 46, 39, 52,  1, 58, 53,  1, 44, 39, 51, 47,\n",
      "        57, 46, 12,  0,  0, 13, 50, 50, 10,  0, 30, 43, 57, 53, 50, 60, 43, 42,\n",
      "         8,  1, 56, 43, 57, 53, 50, 60, 43, 42,  8,  0,  0, 18, 47, 56, 57, 58,\n",
      "         1, 15, 47, 58, 47, 64, 43, 52, 10,  0, 18, 47, 56, 57, 58,  6,  1, 63,\n",
      "        53, 59,  1, 49, 52, 53, 61,  1, 15, 39, 47, 59, 57,  1, 25, 39, 56, 41,\n",
      "        47, 59, 57,  1, 47, 57,  1, 41, 46, 47, 43, 44,  1, 43, 52, 43, 51, 63,\n",
      "         1, 58, 53,  1, 58, 46, 43,  1, 54, 43, 53, 54, 50, 43,  8,  0,  0, 13,\n",
      "        50, 50, 10,  0, 35, 43,  1, 49, 52, 53, 61,  5, 58,  6,  1, 61, 43,  1,\n",
      "        49, 52, 53, 61,  5, 58,  8,  0,  0, 18, 47, 56, 57, 58,  1, 15, 47, 58,\n",
      "        47, 64, 43, 52, 10,  0, 24, 43, 58,  1, 59, 57,  1, 49, 47, 50, 50,  1,\n",
      "        46, 47, 51,  6,  1, 39, 52, 42,  1, 61, 43,  5, 50, 50,  1, 46, 39, 60,\n",
      "        43,  1, 41, 53, 56, 52,  1, 39, 58,  1, 53, 59, 56,  1, 53, 61, 52,  1,\n",
      "        54, 56, 47, 41, 43,  8,  0, 21, 57,  5, 58,  1, 39,  1, 60, 43, 56, 42,\n",
      "        47, 41, 58, 12,  0,  0, 13, 50, 50, 10,  0, 26, 53,  1, 51, 53, 56, 43,\n",
      "         1, 58, 39, 50, 49, 47, 52, 45,  1, 53, 52,  5, 58, 11,  1, 50, 43, 58,\n",
      "         1, 47, 58,  1, 40, 43,  1, 42, 53, 52, 43, 10,  1, 39, 61, 39, 63,  6,\n",
      "         1, 39, 61, 39, 63,  2,  0,  0, 31, 43, 41, 53, 52, 42,  1, 15, 47, 58,\n",
      "        47, 64, 43, 52, 10,  0, 27, 52, 43,  1, 61, 53, 56, 42,  6,  1, 45, 53,\n",
      "        53, 42,  1, 41, 47, 58, 47, 64, 43, 52, 57,  8,  0,  0, 18, 47, 56, 57,\n",
      "        58,  1, 15, 47, 58, 47, 64, 43, 52, 10,  0, 35, 43,  1, 39, 56, 43,  1,\n",
      "        39, 41, 41, 53, 59, 52, 58, 43, 42,  1, 54, 53, 53, 56,  1, 41, 47, 58,\n",
      "        47, 64, 43, 52, 57,  6,  1, 58, 46, 43,  1, 54, 39, 58, 56, 47, 41, 47,\n",
      "        39, 52, 57,  1, 45, 53, 53, 42,  8,  0, 35, 46, 39, 58,  1, 39, 59, 58,\n",
      "        46, 53, 56, 47, 58, 63,  1, 57, 59, 56, 44, 43, 47, 58, 57,  1, 53, 52,\n",
      "         1, 61, 53, 59, 50, 42,  1, 56, 43, 50, 47, 43, 60, 43,  1, 59, 57, 10,\n",
      "         1, 47, 44,  1, 58, 46, 43, 63,  0, 61, 53, 59, 50, 42,  1, 63, 47, 43,\n",
      "        50, 42,  1, 59, 57,  1, 40, 59, 58,  1, 58, 46, 43,  1, 57, 59, 54, 43,\n",
      "        56, 44, 50, 59, 47, 58, 63,  6,  1, 61, 46, 47, 50, 43,  1, 47, 58,  1,\n",
      "        61, 43, 56, 43,  0, 61, 46, 53, 50, 43, 57, 53, 51, 43,  6,  1, 61, 43,\n",
      "         1, 51, 47, 45, 46, 58,  1, 45, 59, 43, 57, 57,  1, 58, 46, 43, 63,  1,\n",
      "        56, 43, 50, 47, 43, 60, 43, 42,  1, 59, 57,  1, 46, 59, 51, 39, 52, 43,\n",
      "        50, 63, 11,  0, 40, 59, 58,  1, 58, 46, 43, 63,  1, 58, 46, 47, 52, 49,\n",
      "         1, 61, 43,  1, 39, 56, 43,  1, 58, 53, 53,  1, 42, 43, 39, 56, 10,  1,\n",
      "        58, 46, 43,  1, 50, 43, 39, 52, 52, 43, 57, 57,  1, 58, 46, 39, 58,  0,\n",
      "        39, 44, 44, 50, 47, 41, 58, 57,  1, 59, 57,  6,  1, 58, 46, 43,  1, 53,\n",
      "        40, 48, 43, 41, 58,  1, 53, 44,  1, 53, 59, 56,  1, 51, 47, 57, 43, 56,\n",
      "        63,  6,  1, 47, 57,  1, 39, 57,  1, 39, 52,  0, 47, 52, 60, 43, 52, 58,\n",
      "        53, 56, 63,  1, 58, 53,  1, 54, 39, 56, 58, 47, 41, 59, 50, 39, 56, 47,\n",
      "        57, 43,  1, 58, 46, 43, 47, 56,  1, 39, 40, 59, 52, 42, 39, 52, 41, 43,\n",
      "        11,  1, 53, 59, 56,  0, 57, 59, 44, 44, 43, 56, 39, 52, 41, 43,  1, 47,\n",
      "        57,  1, 39,  1, 45, 39, 47, 52,  1, 58, 53,  1, 58, 46, 43, 51,  1, 24,\n",
      "        43, 58,  1, 59, 57,  1, 56, 43, 60, 43, 52, 45, 43,  1, 58, 46, 47, 57,\n",
      "         1, 61, 47, 58, 46,  0, 53, 59, 56,  1, 54, 47, 49, 43, 57,  6,  1, 43,\n",
      "        56, 43,  1, 61, 43,  1, 40, 43, 41, 53, 51, 43,  1, 56, 39, 49, 43, 57,\n",
      "        10,  1, 44, 53, 56,  1, 58, 46, 43,  1, 45, 53, 42, 57,  1, 49, 52, 53,\n",
      "        61,  1, 21,  0, 57, 54, 43, 39, 49,  1, 58, 46, 47, 57,  1, 47, 52,  1,\n",
      "        46, 59, 52, 45, 43, 56,  1, 44, 53, 56,  1, 40, 56, 43, 39, 42,  6,  1,\n",
      "        52, 53, 58,  1, 47, 52,  1, 58, 46, 47, 56, 57, 58,  1, 44, 53, 56,  1,\n",
      "        56, 43, 60, 43, 52, 45, 43,  8,  0,  0])\n"
     ]
    }
   ],
   "source": [
    "print(data[:1000])"
   ]
  },
  {
   "cell_type": "markdown",
   "id": "48027550-87cc-4ca2-a9dc-13ba00ac0511",
   "metadata": {},
   "source": [
    "## Utf encoding"
   ]
  },
  {
   "cell_type": "markdown",
   "id": "73528c6d-c671-4a09-afa9-ba6909ee6c74",
   "metadata": {},
   "source": [
    "**Only have 256 token size for utf8. And for utf 16 and 32 there is a lot of waste space**"
   ]
  },
  {
   "cell_type": "code",
   "execution_count": 16,
   "id": "eed28438-d2cd-4382-b896-ff1f11b065b7",
   "metadata": {},
   "outputs": [
    {
     "data": {
      "text/plain": [
       "80"
      ]
     },
     "execution_count": 16,
     "metadata": {},
     "output_type": "execute_result"
    }
   ],
   "source": [
    "ord('P') # ord() = “ordinal” is used to convert a character into its Unicode (or ASCII) integer code point."
   ]
  },
  {
   "cell_type": "code",
   "execution_count": 17,
   "id": "f90b4697-ccfb-4864-bc34-55682c105a4a",
   "metadata": {},
   "outputs": [
    {
     "data": {
      "text/plain": [
       "'P'"
      ]
     },
     "execution_count": 17,
     "metadata": {},
     "output_type": "execute_result"
    }
   ],
   "source": [
    "chr(80) # chr is used to convert it back"
   ]
  },
  {
   "cell_type": "code",
   "execution_count": 18,
   "id": "3d58afd2-3ca6-457a-a6ee-af75cc64ea7a",
   "metadata": {},
   "outputs": [
    {
     "data": {
      "text/plain": [
       "[72,\n",
       " 101,\n",
       " 108,\n",
       " 108,\n",
       " 111,\n",
       " 32,\n",
       " 104,\n",
       " 111,\n",
       " 119,\n",
       " 32,\n",
       " 97,\n",
       " 114,\n",
       " 101,\n",
       " 32,\n",
       " 121,\n",
       " 111,\n",
       " 117]"
      ]
     },
     "execution_count": 18,
     "metadata": {},
     "output_type": "execute_result"
    }
   ],
   "source": [
    "[ord(x) for x in \"Hello how are you\" ]"
   ]
  },
  {
   "cell_type": "code",
   "execution_count": 19,
   "id": "032a128a-4b20-4fe0-ae43-7080642342bd",
   "metadata": {},
   "outputs": [
    {
     "data": {
      "text/plain": [
       "[72,\n",
       " 101,\n",
       " 108,\n",
       " 108,\n",
       " 111,\n",
       " 32,\n",
       " 104,\n",
       " 111,\n",
       " 119,\n",
       " 32,\n",
       " 97,\n",
       " 114,\n",
       " 101,\n",
       " 32,\n",
       " 121,\n",
       " 111,\n",
       " 117]"
      ]
     },
     "execution_count": 19,
     "metadata": {},
     "output_type": "execute_result"
    }
   ],
   "source": [
    "list(\"Hello how are you\".encode(\"utf-8\"))"
   ]
  },
  {
   "cell_type": "code",
   "execution_count": 20,
   "id": "99c1cb41-d5d9-4258-8ebc-c8a52a61d10b",
   "metadata": {},
   "outputs": [
    {
     "data": {
      "text/plain": [
       "[255,\n",
       " 254,\n",
       " 72,\n",
       " 0,\n",
       " 101,\n",
       " 0,\n",
       " 108,\n",
       " 0,\n",
       " 108,\n",
       " 0,\n",
       " 111,\n",
       " 0,\n",
       " 32,\n",
       " 0,\n",
       " 104,\n",
       " 0,\n",
       " 111,\n",
       " 0,\n",
       " 119,\n",
       " 0,\n",
       " 32,\n",
       " 0,\n",
       " 97,\n",
       " 0,\n",
       " 114,\n",
       " 0,\n",
       " 101,\n",
       " 0,\n",
       " 32,\n",
       " 0,\n",
       " 121,\n",
       " 0,\n",
       " 111,\n",
       " 0,\n",
       " 117,\n",
       " 0]"
      ]
     },
     "execution_count": 20,
     "metadata": {},
     "output_type": "execute_result"
    }
   ],
   "source": [
    "list(\"Hello how are you\".encode(\"utf-16\"))"
   ]
  },
  {
   "cell_type": "code",
   "execution_count": 21,
   "id": "628b27db-7962-425a-b66f-76c0d9d85172",
   "metadata": {},
   "outputs": [
    {
     "data": {
      "text/plain": [
       "[255,\n",
       " 254,\n",
       " 0,\n",
       " 0,\n",
       " 72,\n",
       " 0,\n",
       " 0,\n",
       " 0,\n",
       " 101,\n",
       " 0,\n",
       " 0,\n",
       " 0,\n",
       " 108,\n",
       " 0,\n",
       " 0,\n",
       " 0,\n",
       " 108,\n",
       " 0,\n",
       " 0,\n",
       " 0,\n",
       " 111,\n",
       " 0,\n",
       " 0,\n",
       " 0,\n",
       " 32,\n",
       " 0,\n",
       " 0,\n",
       " 0,\n",
       " 104,\n",
       " 0,\n",
       " 0,\n",
       " 0,\n",
       " 111,\n",
       " 0,\n",
       " 0,\n",
       " 0,\n",
       " 119,\n",
       " 0,\n",
       " 0,\n",
       " 0,\n",
       " 32,\n",
       " 0,\n",
       " 0,\n",
       " 0,\n",
       " 97,\n",
       " 0,\n",
       " 0,\n",
       " 0,\n",
       " 114,\n",
       " 0,\n",
       " 0,\n",
       " 0,\n",
       " 101,\n",
       " 0,\n",
       " 0,\n",
       " 0,\n",
       " 32,\n",
       " 0,\n",
       " 0,\n",
       " 0,\n",
       " 121,\n",
       " 0,\n",
       " 0,\n",
       " 0,\n",
       " 111,\n",
       " 0,\n",
       " 0,\n",
       " 0,\n",
       " 117,\n",
       " 0,\n",
       " 0,\n",
       " 0]"
      ]
     },
     "execution_count": 21,
     "metadata": {},
     "output_type": "execute_result"
    }
   ],
   "source": [
    "list(\"Hello how are you\".encode(\"utf-32\"))"
   ]
  },
  {
   "cell_type": "code",
   "execution_count": 22,
   "id": "a968eb1c-abd0-4209-8042-b332a9263e43",
   "metadata": {},
   "outputs": [
    {
     "name": "stdout",
     "output_type": "stream",
     "text": [
      "tensor([18, 47, 56,  ..., 45,  8,  0])\n"
     ]
    }
   ],
   "source": [
    "print(data)"
   ]
  },
  {
   "cell_type": "code",
   "execution_count": 23,
   "id": "47a27752-37fb-40c0-94b0-9f83a0e29809",
   "metadata": {},
   "outputs": [
    {
     "name": "stdout",
     "output_type": "stream",
     "text": [
      "First Citizen:\n",
      "Before we proceed any further, hear me speak.\n",
      "\n",
      "All:\n",
      "Speak, speak.\n",
      "\n",
      "First Citizen:\n",
      "You are all resolved rather to die than to famish?\n",
      "\n",
      "All:\n",
      "Resolved. resolved.\n",
      "\n",
      "First Citizen:\n",
      "First, you know Caius Marcius is chief enemy to the people.\n",
      "\n",
      "All:\n",
      "We know't, we know't.\n",
      "\n",
      "First Citizen:\n",
      "Let us kill him, and we'll have corn at our own price.\n",
      "Is't a verdict?\n",
      "\n",
      "All:\n",
      "No more talking on't; let it be done: away, away!\n",
      "\n",
      "Second Citizen:\n",
      "One word, good citizens.\n",
      "\n",
      "First Citizen:\n",
      "We are accounted poor\n"
     ]
    }
   ],
   "source": [
    "data = text[:1000] # first 1,000 characters\n",
    "print(data[:500])"
   ]
  },
  {
   "cell_type": "code",
   "execution_count": 24,
   "id": "feed0708-1375-418e-8304-855717928528",
   "metadata": {},
   "outputs": [
    {
     "name": "stdout",
     "output_type": "stream",
     "text": [
      "First Citizen:\n",
      "Before we proceed any further, hear me speak.\n",
      "\n",
      "All:\n",
      "Speak, speak.\n",
      "\n",
      "First Citizen:\n",
      "You are all resolved rather to die than to famish?\n",
      "\n",
      "All:\n",
      "Resolved. resolved.\n",
      "\n",
      "First Citizen:\n",
      "First, you know Caius Marcius is chief enemy to the people.\n",
      "\n",
      "All:\n",
      "We know't, we know't.\n",
      "\n",
      "First Citizen:\n",
      "Let us kill him, and we'll have corn at our own price.\n",
      "Is't a verdict?\n",
      "\n",
      "All:\n",
      "No more talking on't; let it be done: away, away!\n",
      "\n",
      "Second Citizen:\n",
      "One word, good citizens.\n",
      "\n",
      "First Citizen:\n",
      "We are accounted poor citizens, the patricians good.\n",
      "What authority surfeits on would relieve us: if they\n",
      "would yield us but the superfluity, while it were\n",
      "wholesome, we might guess they relieved us humanely;\n",
      "but they think we are too dear: the leanness that\n",
      "afflicts us, the object of our misery, is as an\n",
      "inventory to particularise their abundance; our\n",
      "sufferance is a gain to them Let us revenge this with\n",
      "our pikes, ere we become rakes: for the gods know I\n",
      "speak this in hunger for bread, not in thirst for revenge.\n",
      "\n",
      "\n"
     ]
    }
   ],
   "source": [
    "print(data)"
   ]
  },
  {
   "cell_type": "code",
   "execution_count": 25,
   "id": "99671170-23cb-4a35-83a5-2994b53341f3",
   "metadata": {},
   "outputs": [],
   "source": [
    "token = text.encode(\"utf-8\")"
   ]
  },
  {
   "cell_type": "code",
   "execution_count": 26,
   "id": "84c6ef35-a20d-43ef-be76-1faf303f30d4",
   "metadata": {},
   "outputs": [],
   "source": [
    "text = \"\"\"On the night of 5 June, HMS Cardiff was stationed to the east of the islands to provide gunfire support to the land forces and intercept enemy aircraft. At around 02:00 a radar contact was detected; a British Army Air Corps Westland Gazelle helicopter was making a routine delivery of personnel and equipment to a radio rebroadcast station on East Falkland. From the contact's speed and course, Cardiff's operations room crew assumed it to be hostile. One Sea Dart missile was fired, missing the target. A second destroyed it.[1] The Gazelle's wreckage and crew were discovered the next morning, and the loss was attributed to enemy fire. Although Cardiff was suspected, later scientific tests on the wreckage proved inconclusive. No formal inquiry was held until four years later. Defending their claim that the helicopter had been lost in action, the United Kingdom's Ministry of Defence (MoD) stated that they had not wanted to \"cause further anguish to relatives\" while they were still trying to ascertain how the Gazelle had been shot down. The board of inquiry finally confirmed that the soldiers died due to friendly fire. It recommended that \"neither negligence nor blame should be attributed to any individual\",[2] but identified several factors. A lack of communication between the army and the navy meant that 5th Infantry Brigade had not notified anyone of the helicopter's flight. The navy had not informed the land forces that Cardiff had changed position to set up an ambush for Argentine aircraft travelling over the area. The helicopter's identification friend or foe (IFF) transmitter was turned off, because it caused interference with the army's Rapier anti-aircraft missile system. The board of inquiry's findings prompted criticism of the MoD's initial response to the incident.\"\"\"\n",
    "token  = text.encode(\"utf-8\")\n",
    "token = list(token)"
   ]
  },
  {
   "cell_type": "markdown",
   "id": "aacd01d9-0d7d-4c95-a72c-adf7ef5a415d",
   "metadata": {},
   "source": [
    "**Converting text to Unicode bytes (i.e., byte encoding), in order to tokenize it at the byte level for Byte Pair Encoding (BPE).**"
   ]
  },
  {
   "cell_type": "code",
   "execution_count": 27,
   "id": "e7e82ff8-eef6-464e-ae43-d4248b746bbe",
   "metadata": {},
   "outputs": [
    {
     "name": "stdout",
     "output_type": "stream",
     "text": [
      "1800\n",
      "[79, 110, 32, 116, 104, 101, 32, 110, 105, 103, 104, 116, 32, 111, 102, 32, 53, 32, 74, 117, 110, 101, 44, 32, 72, 77, 83, 32, 67, 97, 114, 100, 105, 102, 102, 32, 119, 97, 115, 32, 115, 116, 97, 116, 105, 111, 110, 101, 100, 32]\n"
     ]
    }
   ],
   "source": [
    "print(len(token))\n",
    "print(token[:50]) "
   ]
  },
  {
   "cell_type": "code",
   "execution_count": 28,
   "id": "30fdefed-269a-4478-8efc-78536a192f9b",
   "metadata": {},
   "outputs": [],
   "source": [
    "def get_stats(ids):\n",
    "    counts = {} # Creates an empty Dictionary\n",
    "    for pair in zip(ids,ids[1:]):\n",
    "        counts[pair] = counts.get(pair ,0)+1\n",
    "    return counts\n",
    "    "
   ]
  },
  {
   "cell_type": "markdown",
   "id": "91f5b28d-c5ce-467f-8d24-05eb81529de2",
   "metadata": {},
   "source": [
    "**How zip works**\n",
    "<pre>\n",
    "```\n",
    "a = [10, 20, 30, 40]\n",
    "b = [20, 30, 40]\n",
    "z = zip(a, b)\n",
    "z = zip(a, b) → [\n",
    "    (10, 20),  # a[0], b[0]\n",
    "    (20, 30),  # a[1], b[1]\n",
    "    (30, 40)   # a[2], b[2]\n",
    "    # a[3] has no match in b → ignored\n",
    "]\n",
    "\n",
    "a = [10, 20, 30, 40]\n",
    "     ↓   ↓   ↓\n",
    "b = [20, 30, 40]\n",
    "\n",
    "Result:\n",
    "[\n",
    "  (10, 20),\n",
    "  (20, 30),\n",
    "  (30, 40)\n",
    "]\n",
    "```\n",
    "</pre>\n"
   ]
  },
  {
   "cell_type": "markdown",
   "id": "b93f7bc8-57bb-4e72-af9e-d43960ff1b59",
   "metadata": {},
   "source": [
    "**How counts.get(pair, 0) works**\n",
    "<pre>\n",
    "counts.get(pair, 0)\n",
    "\t•\tLooks for pair in the counts dictionary.\n",
    "\t•\tIf the pair already exists, it returns its current count.\n",
    "\t•\tIf the pair doesn’t exist, it returns 0 by default (thanks to the get(..., 0) part).\n",
    "</pre>"
   ]
  },
  {
   "cell_type": "code",
   "execution_count": 29,
   "id": "0c0ec88b-94f4-4779-90c7-c9262b3f2a4a",
   "metadata": {},
   "outputs": [
    {
     "name": "stdout",
     "output_type": "stream",
     "text": [
      "{(79, 110): 2, (110, 32): 13, (32, 116): 49, (116, 104): 35, (104, 101): 36, (101, 32): 53, (32, 110): 10, (110, 105): 6, (105, 103): 4, (103, 104): 3, (104, 116): 2, (116, 32): 30, (32, 111): 15, (111, 102): 10, (102, 32): 12, (32, 53): 2, (53, 32): 1, (32, 74): 1, (74, 117): 1, (117, 110): 5, (110, 101): 13, (101, 44): 2, (44, 32): 7, (32, 72): 1, (72, 77): 1, (77, 83): 1, (83, 32): 1, (32, 67): 5, (67, 97): 4, (97, 114): 14, (114, 100): 6, (100, 105): 11, (105, 102): 8, (102, 102): 5, (32, 119): 15, (119, 97): 9, (97, 115): 13, (115, 32): 27, (32, 115): 15, (115, 116): 14, (116, 97): 7, (97, 116): 17, (116, 105): 21, (105, 111): 8, (111, 110): 17, (101, 100): 24, (100, 32): 43, (116, 111): 14, (111, 32): 15, (32, 101): 4, (101, 97): 5, (32, 105): 17, (105, 115): 9, (115, 108): 1, (108, 97): 11, (97, 110): 21, (110, 100): 19, (100, 115): 1, (32, 112): 5, (112, 114): 3, (114, 111): 9, (111, 118): 4, (118, 105): 2, (105, 100): 5, (100, 101): 9, (32, 103): 1, (103, 117): 2, (110, 102): 4, (102, 105): 11, (105, 114): 13, (114, 101): 17, (115, 117): 3, (117, 112): 2, (112, 112): 1, (112, 111): 3, (111, 114): 11, (114, 116): 4, (32, 108): 7, (32, 102): 16, (102, 111): 7, (114, 99): 6, (99, 101): 7, (101, 115): 7, (32, 97): 27, (105, 110): 25, (110, 116): 15, (116, 101): 20, (101, 114): 23, (101, 112): 1, (112, 116): 6, (101, 110): 18, (101, 109): 3, (109, 121): 5, (121, 32): 16, (97, 105): 5, (99, 114): 6, (114, 97): 9, (97, 102): 3, (102, 116): 3, (116, 46): 5, (46, 32): 13, (32, 65): 7, (65, 116): 1, (111, 117): 6, (32, 48): 1, (48, 50): 1, (50, 58): 1, (58, 48): 1, (48, 48): 1, (48, 32): 1, (97, 32): 5, (32, 114): 8, (97, 100): 10, (100, 97): 1, (114, 32): 15, (32, 99): 11, (99, 111): 13, (97, 99): 5, (99, 116): 6, (32, 100): 7, (101, 116): 4, (101, 99): 7, (100, 59): 1, (59, 32): 1, (32, 66): 2, (66, 114): 2, (114, 105): 7, (105, 116): 11, (115, 104): 5, (104, 32): 6, (65, 114): 2, (114, 109): 6, (65, 105): 1, (67, 111): 1, (114, 112): 1, (112, 115): 1, (32, 87): 1, (87, 101): 1, (116, 108): 1, (32, 71): 3, (71, 97): 3, (97, 122): 3, (122, 101): 3, (101, 108): 12, (108, 108): 6, (108, 101): 7, (32, 104): 13, (108, 105): 8, (105, 99): 8, (111, 112): 5, (32, 109): 6, (109, 97): 2, (97, 107): 1, (107, 105): 1, (110, 103): 10, (103, 32): 5, (117, 116): 4, (105, 118): 4, (118, 101): 8, (114, 121): 7, (112, 101): 4, (114, 115): 5, (115, 111): 2, (110, 110): 1, (108, 32): 6, (101, 113): 1, (113, 117): 4, (117, 105): 5, (105, 112): 1, (112, 109): 1, (109, 101): 7, (101, 98): 1, (98, 114): 1, (111, 97): 3, (100, 99): 1, (99, 97): 6, (32, 69): 1, (69, 97): 1, (32, 70): 2, (70, 97): 1, (97, 108): 6, (108, 107): 1, (107, 108): 1, (100, 46): 1, (70, 114): 1, (111, 109): 6, (109, 32): 4, (116, 39): 1, (39, 115): 9, (115, 112): 3, (101, 101): 4, (117, 114): 4, (115, 101): 8, (102, 39): 1, (110, 115): 3, (111, 111): 1, (101, 119): 2, (119, 32): 3, (115, 115): 5, (117, 109): 1, (32, 98): 10, (98, 101): 6, (104, 111): 5, (111, 115): 4, (105, 108): 6, (101, 46): 4, (32, 79): 1, (32, 83): 1, (83, 101): 1, (32, 68): 3, (68, 97): 1, (109, 105): 4, (115, 105): 5, (100, 44): 2, (114, 103): 2, (103, 101): 6, (65, 32): 2, (116, 114): 8, (111, 121): 1, (121, 101): 2, (46, 91): 1, (91, 49): 1, (49, 93): 1, (93, 32): 2, (32, 84): 5, (84, 104): 5, (101, 39): 1, (119, 114): 2, (99, 107): 3, (107, 97): 2, (97, 103): 2, (119, 101): 3, (115, 99): 3, (101, 120): 1, (120, 116): 1, (109, 111): 1, (114, 110): 2, (103, 44): 1, (108, 111): 2, (116, 116): 3, (105, 98): 2, (98, 117): 4, (65, 108): 1, (108, 116): 1, (117, 103): 1, (117, 115): 6, (99, 105): 3, (105, 101): 8, (99, 32): 1, (116, 115): 1, (110, 99): 6, (99, 108): 2, (108, 117): 1, (32, 78): 1, (78, 111): 1, (110, 113): 3, (108, 100): 3, (32, 117): 2, (32, 121): 1, (114, 46): 1, (68, 101): 2, (101, 102): 2, (102, 101): 3, (101, 105): 2, (105, 109): 1, (104, 97): 13, (110, 44): 1, (32, 85): 1, (85, 110): 1, (32, 75): 1, (75, 105): 1, (103, 100): 1, (100, 111): 2, (109, 39): 1, (32, 77): 2, (77, 105): 1, (32, 40): 2, (40, 77): 1, (77, 111): 2, (111, 68): 2, (68, 41): 1, (41, 32): 2, (101, 121): 2, (110, 111): 5, (111, 116): 5, (32, 34): 2, (34, 99): 1, (97, 117): 3, (102, 117): 1, (115, 34): 1, (34, 32): 1, (119, 104): 1, (104, 105): 1, (121, 105): 1, (111, 119): 2, (119, 110): 1, (110, 46): 1, (98, 111): 2, (110, 97): 3, (108, 121): 2, (111, 108): 1, (100, 117): 2, (117, 101): 1, (102, 114): 2, (100, 108): 1, (32, 73): 2, (73, 116): 1, (109, 109): 2, (34, 110): 1, (101, 103): 1, (103, 108): 1, (98, 108): 1, (97, 109): 2, (117, 108): 1, (110, 121): 2, (117, 97): 1, (108, 34): 1, (34, 44): 1, (44, 91): 1, (91, 50): 1, (50, 93): 1, (101, 118): 1, (102, 97): 2, (115, 46): 1, (107, 32): 1, (109, 117): 1, (116, 119): 1, (97, 118): 3, (118, 121): 2, (53, 116): 1, (73, 110): 1, (103, 97): 1, (121, 111): 1, (114, 39): 2, (102, 108): 1, (99, 104): 1, (112, 32): 1, (109, 98): 1, (97, 46): 1, (111, 101): 1, (40, 73): 1, (73, 70): 1, (70, 70): 1, (70, 41): 1, (115, 109): 2, (116, 117): 1, (102, 44): 1, (114, 102): 1, (119, 105): 1, (121, 39): 2, (32, 82): 1, (82, 97): 1, (97, 112): 1, (112, 105): 1, (105, 45): 1, (45, 97): 1, (115, 121): 1, (121, 115): 1, (109, 46): 1, (103, 115): 1, (109, 112): 1, (68, 39): 1, (105, 97): 1}\n"
     ]
    }
   ],
   "source": [
    "stats = get_stats(token)\n",
    "print(stats)"
   ]
  },
  {
   "cell_type": "code",
   "execution_count": 30,
   "id": "60c3c02d-0a7a-4e4c-8b6a-77f530d0376b",
   "metadata": {},
   "outputs": [
    {
     "name": "stdout",
     "output_type": "stream",
     "text": [
      "[(53, (101, 32)), (49, (32, 116)), (43, (100, 32)), (36, (104, 101)), (35, (116, 104)), (30, (116, 32)), (27, (115, 32)), (27, (32, 97)), (25, (105, 110)), (24, (101, 100)), (23, (101, 114)), (21, (116, 105)), (21, (97, 110)), (20, (116, 101)), (19, (110, 100)), (18, (101, 110)), (17, (114, 101)), (17, (111, 110)), (17, (97, 116)), (17, (32, 105)), (16, (121, 32)), (16, (32, 102)), (15, (114, 32)), (15, (111, 32)), (15, (110, 116)), (15, (32, 119)), (15, (32, 115)), (15, (32, 111)), (14, (116, 111)), (14, (115, 116)), (14, (97, 114)), (13, (110, 101)), (13, (110, 32)), (13, (105, 114)), (13, (104, 97)), (13, (99, 111)), (13, (97, 115)), (13, (46, 32)), (13, (32, 104)), (12, (102, 32)), (12, (101, 108)), (11, (111, 114)), (11, (108, 97)), (11, (105, 116)), (11, (102, 105)), (11, (100, 105)), (11, (32, 99)), (10, (111, 102)), (10, (110, 103)), (10, (97, 100)), (10, (32, 110)), (10, (32, 98)), (9, (119, 97)), (9, (114, 111)), (9, (114, 97)), (9, (105, 115)), (9, (100, 101)), (9, (39, 115)), (8, (118, 101)), (8, (116, 114)), (8, (115, 101)), (8, (108, 105)), (8, (105, 111)), (8, (105, 102)), (8, (105, 101)), (8, (105, 99)), (8, (32, 114)), (7, (116, 97)), (7, (114, 121)), (7, (114, 105)), (7, (109, 101)), (7, (108, 101)), (7, (102, 111)), (7, (101, 115)), (7, (101, 99)), (7, (99, 101)), (7, (44, 32)), (7, (32, 108)), (7, (32, 100)), (7, (32, 65)), (6, (117, 115)), (6, (114, 109)), (6, (114, 100)), (6, (114, 99)), (6, (112, 116)), (6, (111, 117)), (6, (111, 109)), (6, (110, 105)), (6, (110, 99)), (6, (108, 108)), (6, (108, 32)), (6, (105, 108)), (6, (104, 32)), (6, (103, 101)), (6, (99, 116)), (6, (99, 114)), (6, (99, 97)), (6, (98, 101)), (6, (97, 108)), (6, (32, 109)), (5, (117, 110)), (5, (117, 105)), (5, (116, 46)), (5, (115, 115)), (5, (115, 105)), (5, (115, 104)), (5, (114, 115)), (5, (111, 116)), (5, (111, 112)), (5, (110, 111)), (5, (109, 121)), (5, (105, 100)), (5, (104, 111)), (5, (103, 32)), (5, (102, 102)), (5, (101, 97)), (5, (97, 105)), (5, (97, 99)), (5, (97, 32)), (5, (84, 104)), (5, (32, 112)), (5, (32, 84)), (5, (32, 67)), (4, (117, 116)), (4, (117, 114)), (4, (114, 116)), (4, (113, 117)), (4, (112, 101)), (4, (111, 118)), (4, (111, 115)), (4, (110, 102)), (4, (109, 105)), (4, (109, 32)), (4, (105, 118)), (4, (105, 103)), (4, (101, 116)), (4, (101, 101)), (4, (101, 46)), (4, (98, 117)), (4, (67, 97)), (4, (32, 101)), (3, (122, 101)), (3, (119, 101)), (3, (119, 32)), (3, (116, 116)), (3, (115, 117)), (3, (115, 112)), (3, (115, 99)), (3, (112, 114)), (3, (112, 111)), (3, (111, 97)), (3, (110, 115)), (3, (110, 113)), (3, (110, 97)), (3, (108, 100)), (3, (103, 104)), (3, (102, 116)), (3, (102, 101)), (3, (101, 109)), (3, (99, 107)), (3, (99, 105)), (3, (97, 122)), (3, (97, 118)), (3, (97, 117)), (3, (97, 102)), (3, (71, 97)), (3, (32, 71)), (3, (32, 68)), (2, (121, 101)), (2, (121, 39)), (2, (119, 114)), (2, (118, 121)), (2, (118, 105)), (2, (117, 112)), (2, (115, 111)), (2, (115, 109)), (2, (114, 110)), (2, (114, 103)), (2, (114, 39)), (2, (111, 119)), (2, (111, 68)), (2, (110, 121)), (2, (109, 109)), (2, (109, 97)), (2, (108, 121)), (2, (108, 111)), (2, (107, 97)), (2, (105, 98)), (2, (104, 116)), (2, (103, 117)), (2, (102, 114)), (2, (102, 97)), (2, (101, 121)), (2, (101, 119)), (2, (101, 105)), (2, (101, 102)), (2, (101, 44)), (2, (100, 117)), (2, (100, 111)), (2, (100, 44)), (2, (99, 108)), (2, (98, 111)), (2, (97, 109)), (2, (97, 103)), (2, (93, 32)), (2, (79, 110)), (2, (77, 111)), (2, (68, 101)), (2, (66, 114)), (2, (65, 114)), (2, (65, 32)), (2, (41, 32)), (2, (32, 117)), (2, (32, 77)), (2, (32, 73)), (2, (32, 70)), (2, (32, 66)), (2, (32, 53)), (2, (32, 40)), (2, (32, 34)), (1, (121, 115)), (1, (121, 111)), (1, (121, 105)), (1, (120, 116)), (1, (119, 110)), (1, (119, 105)), (1, (119, 104)), (1, (117, 109)), (1, (117, 108)), (1, (117, 103)), (1, (117, 101)), (1, (117, 97)), (1, (116, 119)), (1, (116, 117)), (1, (116, 115)), (1, (116, 108)), (1, (116, 39)), (1, (115, 121)), (1, (115, 108)), (1, (115, 46)), (1, (115, 34)), (1, (114, 112)), (1, (114, 102)), (1, (114, 46)), (1, (112, 115)), (1, (112, 112)), (1, (112, 109)), (1, (112, 105)), (1, (112, 32)), (1, (111, 121)), (1, (111, 111)), (1, (111, 108)), (1, (111, 101)), (1, (110, 110)), (1, (110, 46)), (1, (110, 44)), (1, (109, 117)), (1, (109, 112)), (1, (109, 111)), (1, (109, 98)), (1, (109, 46)), (1, (109, 39)), (1, (108, 117)), (1, (108, 116)), (1, (108, 107)), (1, (108, 34)), (1, (107, 108)), (1, (107, 105)), (1, (107, 32)), (1, (105, 112)), (1, (105, 109)), (1, (105, 97)), (1, (105, 45)), (1, (104, 105)), (1, (103, 115)), (1, (103, 108)), (1, (103, 100)), (1, (103, 97)), (1, (103, 44)), (1, (102, 117)), (1, (102, 108)), (1, (102, 44)), (1, (102, 39)), (1, (101, 120)), (1, (101, 118)), (1, (101, 113)), (1, (101, 112)), (1, (101, 103)), (1, (101, 98)), (1, (101, 39)), (1, (100, 115)), (1, (100, 108)), (1, (100, 99)), (1, (100, 97)), (1, (100, 59)), (1, (100, 46)), (1, (99, 104)), (1, (99, 32)), (1, (98, 114)), (1, (98, 108)), (1, (97, 112)), (1, (97, 107)), (1, (97, 46)), (1, (91, 50)), (1, (91, 49)), (1, (87, 101)), (1, (85, 110)), (1, (83, 101)), (1, (83, 32)), (1, (82, 97)), (1, (78, 111)), (1, (77, 105)), (1, (77, 83)), (1, (75, 105)), (1, (74, 117)), (1, (73, 116)), (1, (73, 110)), (1, (73, 70)), (1, (72, 77)), (1, (70, 114)), (1, (70, 97)), (1, (70, 70)), (1, (70, 41)), (1, (69, 97)), (1, (68, 97)), (1, (68, 41)), (1, (68, 39)), (1, (67, 111)), (1, (65, 116)), (1, (65, 108)), (1, (65, 105)), (1, (59, 32)), (1, (58, 48)), (1, (53, 116)), (1, (53, 32)), (1, (50, 93)), (1, (50, 58)), (1, (49, 93)), (1, (48, 50)), (1, (48, 48)), (1, (48, 32)), (1, (46, 91)), (1, (45, 97)), (1, (44, 91)), (1, (40, 77)), (1, (40, 73)), (1, (34, 110)), (1, (34, 99)), (1, (34, 44)), (1, (34, 32)), (1, (32, 121)), (1, (32, 103)), (1, (32, 87)), (1, (32, 85)), (1, (32, 83)), (1, (32, 82)), (1, (32, 79)), (1, (32, 78)), (1, (32, 75)), (1, (32, 74)), (1, (32, 72)), (1, (32, 69)), (1, (32, 48))]\n"
     ]
    }
   ],
   "source": [
    "print(sorted(((v, k) for k, v in stats.items()), reverse=True))"
   ]
  },
  {
   "cell_type": "code",
   "execution_count": 31,
   "id": "cfbf516e-1f40-482d-9e01-4ad3afbe7bc7",
   "metadata": {},
   "outputs": [
    {
     "data": {
      "text/plain": [
       "(101, 32)"
      ]
     },
     "execution_count": 31,
     "metadata": {},
     "output_type": "execute_result"
    }
   ],
   "source": [
    "top_pair = max(stats,key=stats.get)\n",
    "top_pair"
   ]
  },
  {
   "cell_type": "markdown",
   "id": "378feebd-1278-40cc-abeb-562db35f41d5",
   "metadata": {},
   "source": [
    "**Decoding using chr()**"
   ]
  },
  {
   "cell_type": "code",
   "execution_count": 32,
   "id": "94edebb7-4055-4c0d-8491-496fe9c72cb0",
   "metadata": {},
   "outputs": [
    {
     "name": "stdout",
     "output_type": "stream",
     "text": [
      "\n",
      "Top 1: Pair (101, 32) (count=53)\n",
      "Characters:\n",
      "'e'\n",
      "' '\n",
      "\n",
      "Top 2: Pair (32, 116) (count=49)\n",
      "Characters:\n",
      "' '\n",
      "'t'\n",
      "\n",
      "Top 3: Pair (100, 32) (count=43)\n",
      "Characters:\n",
      "'d'\n",
      "' '\n",
      "\n",
      "Top 4: Pair (104, 101) (count=36)\n",
      "Characters:\n",
      "'h'\n",
      "'e'\n",
      "\n",
      "Top 5: Pair (116, 104) (count=35)\n",
      "Characters:\n",
      "'t'\n",
      "'h'\n"
     ]
    }
   ],
   "source": [
    "# Get top 5 most frequent pairs using stats.get as the key\n",
    "top_5_pairs = sorted(stats, key=stats.get, reverse=True)[:5]\n",
    "\n",
    "# Print results using chr()\n",
    "for i, pair in enumerate(top_5_pairs, 1):\n",
    "    print(f\"\\nTop {i}: Pair {pair} (count={stats[pair]})\")\n",
    "    print(\"Characters:\")\n",
    "    for b in pair:\n",
    "        print(f\"'{chr(b)}'\")"
   ]
  },
  {
   "cell_type": "markdown",
   "id": "cc9093b1-4224-41fd-8faa-9f296ac5dc57",
   "metadata": {},
   "source": [
    "## Merge Function"
   ]
  },
  {
   "cell_type": "code",
   "execution_count": 33,
   "id": "be60e7d3-dfdc-4f67-9205-9aa0262123b9",
   "metadata": {},
   "outputs": [],
   "source": [
    "def merge(ids, pair, idx):\n",
    "  # in the list of ints (ids), replace all consecutive occurences of pair with the new token idx\n",
    "  newids = []\n",
    "  i = 0\n",
    "  while i < len(ids):\n",
    "    # if we are not at the very last position AND the pair matches, replace it\n",
    "    if i < len(ids) - 1 and ids[i] == pair[0] and ids[i+1] == pair[1]:\n",
    "      newids.append(idx)\n",
    "      i += 2\n",
    "    else:\n",
    "      newids.append(ids[i])\n",
    "      i += 1\n",
    "  return newids\n"
   ]
  },
  {
   "cell_type": "markdown",
   "id": "2e8865c3-ec2e-4d56-94dd-4b03a1064b59",
   "metadata": {},
   "source": [
    "## Merge Function for Byte Pair Encoding (BPE)\n",
    "\n",
    "\n",
    "```python\n",
    "def merge(ids, pair, idx):\n",
    "```\n",
    "This function replaces **every** occurrence of a specific **pair** of integers in a **list (ids)** with a new single integer token **(idx).**\n",
    "\n",
    "Exapmple -\n",
    "\t•\tids: A list of integers, each representing a character/token (e.g., [104, 101, 108, 108, 111] for \"hello\").\n",
    "\t•\tpair: A tuple like (108, 108), meaning we want to merge this adjacent pair ('l', 'l').\n",
    "\t•\tidx: A new integer token to represent the merged pair, like 999.\n",
    "\n",
    "---\n",
    "```python\n",
    "newids = []\n",
    "i = 0\n",
    "```\n",
    "•\tnewids will store the updated list after merging.<br>\n",
    "•\ti is your index to move through ids.\n",
    "\n",
    "---\n",
    "\n",
    "``` python\n",
    "if i < len(ids) - 1 and ids[i] == pair[0] and ids[i+1] == pair[1]:\n",
    "```\n",
    "\n",
    "This line checks whether the current and next elements in the list ids form the target pair that we want to merge.\n",
    "\n",
    "---\n",
    " ``` python \n",
    "     i < len(ids) - 1 \n",
    " ```\n",
    "•\tWhy: To make sure that we don’t go out of bounds when accessing ids[i+1].\n",
    "•\tYou’re only allowed to look ahead one step if i is not the last index.\n",
    "•\tFor example, if len(ids) == 5, valid i values to check ids[i+1] are 0, 1, 2, 3 (not 4).\n",
    "\n",
    "---\n",
    " ``` python       \n",
    "ids[i] == pair[0]\n",
    "```\n",
    "•\tChecks whether the current token matches the first token of the pair we want to merge.\n",
    " ``` python \n",
    "ids[i+1] == pair[1]\n",
    "```\n",
    "•\tChecks whether the next token matches the second token of the pair.\n",
    "\n",
    "---\n",
    "        \n",
    " ``` python \n",
    "    newids.append(idx)\n",
    "    i += 2\n",
    "```\n",
    "Replace the entire pair with the new token idx.\n",
    "\t•\tSkip both tokens (i += 2) since you merged them.\n",
    "\n",
    "``` python\n",
    "else:\n",
    "    newids.append(ids[i])\n",
    "    i += 1\n",
    "i += 2\n",
    "```\n",
    "If it’s not the target pair, just copy the current token to newids and move to the next one.\n",
    "\n"
   ]
  },
  {
   "cell_type": "code",
   "execution_count": 34,
   "id": "814a8eae-e528-43ef-abf1-3d25fa979906",
   "metadata": {},
   "outputs": [
    {
     "name": "stdout",
     "output_type": "stream",
     "text": [
      "[5, 6, 99, 9, 1]\n"
     ]
    }
   ],
   "source": [
    "print(merge([5, 6, 6, 7, 9, 1], (6, 7), 99))\n"
   ]
  },
  {
   "cell_type": "code",
   "execution_count": 35,
   "id": "40280316-6762-4355-8a64-9687ceae7f81",
   "metadata": {},
   "outputs": [
    {
     "name": "stdout",
     "output_type": "stream",
     "text": [
      "[79, 110, 32, 116, 104, 256, 110, 105, 103, 104, 116, 32, 111, 102, 32, 53, 32, 74, 117, 110, 101, 44, 32, 72, 77, 83, 32, 67, 97, 114, 100, 105, 102, 102, 32, 119, 97, 115, 32, 115, 116, 97, 116, 105, 111, 110, 101, 100, 32, 116]\n",
      "length: 1747\n"
     ]
    }
   ],
   "source": [
    "tokens2 = merge(token, top_pair, 256)\n",
    "print(tokens2[:50])\n",
    "print(\"length:\", len(tokens2))"
   ]
  },
  {
   "cell_type": "code",
   "execution_count": 36,
   "id": "241a08aa-61dc-40a7-972d-dab6f6304451",
   "metadata": {},
   "outputs": [
    {
     "name": "stdout",
     "output_type": "stream",
     "text": [
      "merging (101, 32) into a new token 256\n",
      "merging (32, 116) into a new token 257\n",
      "merging (100, 32) into a new token 258\n",
      "merging (257, 104) into a new token 259\n",
      "merging (105, 110) into a new token 260\n",
      "merging (115, 32) into a new token 261\n",
      "merging (101, 114) into a new token 262\n",
      "merging (116, 32) into a new token 263\n",
      "merging (259, 256) into a new token 264\n",
      "merging (97, 110) into a new token 265\n",
      "merging (116, 105) into a new token 266\n",
      "merging (101, 110) into a new token 267\n",
      "merging (111, 110) into a new token 268\n",
      "merging (121, 32) into a new token 269\n",
      "merging (97, 114) into a new token 270\n",
      "merging (105, 114) into a new token 271\n",
      "merging (46, 32) into a new token 272\n",
      "merging (101, 100) into a new token 273\n",
      "merging (111, 32) into a new token 274\n",
      "merging (101, 108) into a new token 275\n"
     ]
    }
   ],
   "source": [
    "vocab_size = 276 # the desired final vocabulary size\n",
    "num_merges = vocab_size - 256\n",
    "ids = list(token) # copy so we don't destroy the original list\n",
    "\n",
    "merges = {} # (int, int) -> int\n",
    "for i in range(num_merges):\n",
    "  stats = get_stats(ids)\n",
    "  pair = max(stats, key=stats.get)\n",
    "  idx = 256 + i\n",
    "  print(f\"merging {pair} into a new token {idx}\")\n",
    "  ids = merge(ids, pair, idx)\n",
    "  merges[pair] = idx"
   ]
  },
  {
   "cell_type": "code",
   "execution_count": 37,
   "id": "ba1a536c-bb55-4216-af0d-5152bd8f6e45",
   "metadata": {},
   "outputs": [
    {
     "name": "stdout",
     "output_type": "stream",
     "text": [
      "tokens length: 1800\n",
      "ids length: 1359\n",
      "compression ratio: 1.32X\n"
     ]
    }
   ],
   "source": [
    "print(\"tokens length:\", len(token))\n",
    "print(\"ids length:\", len(ids))\n",
    "print(f\"compression ratio: {len(token) / len(ids):.2f}X\")"
   ]
  },
  {
   "cell_type": "code",
   "execution_count": 38,
   "id": "2418e9a2-345f-41cc-a83c-5003be26f4ca",
   "metadata": {},
   "outputs": [
    {
     "name": "stdout",
     "output_type": "stream",
     "text": [
      "[79, 110, 32, 116, 104, 101, 32, 110, 105, 103, 104, 116, 32, 111, 102, 32, 53, 32, 74, 117, 110, 101, 44, 32, 72, 77, 83, 32, 67, 97, 114, 100, 105, 102, 102, 32, 119, 97, 115, 32, 115, 116, 97, 116, 105, 111, 110, 101, 100, 32]\n",
      "\n",
      "[79, 110, 264, 110, 105, 103, 104, 263, 111, 102, 32, 53, 32, 74, 117, 110, 101, 44, 32, 72, 77, 83, 32, 67, 270, 100, 105, 102, 102, 32, 119, 97, 261, 115, 116, 97, 266, 268, 273, 257, 111, 264, 101, 97, 115, 263, 111, 102, 264, 105]\n",
      "\n",
      "length: 1359\n"
     ]
    }
   ],
   "source": [
    "print(token[:50])\n",
    "print(\"\")\n",
    "print(ids[:50])\n",
    "print(\"\")\n",
    "print(\"length:\", len(ids))"
   ]
  },
  {
   "cell_type": "code",
   "execution_count": 39,
   "id": "abd255d1-36d1-4787-9fde-d18c4af57400",
   "metadata": {},
   "outputs": [
    {
     "name": "stdout",
     "output_type": "stream",
     "text": [
      "z\n"
     ]
    }
   ],
   "source": [
    "vocab = {idx: bytes([idx]) for idx in range(256)}\n",
    "for (p0, p1), idx in merges.items():\n",
    "    vocab[idx] = vocab[p0] + vocab[p1]\n",
    "\n",
    "def decode(ids):\n",
    "  # given ids (list of integers), return Python string\n",
    "  tokens = b\"\".join(vocab[idx] for idx in ids)\n",
    "  text = tokens.decode(\"utf-8\", errors=\"replace\")\n",
    "  return text\n",
    "\n",
    "print(decode([122]))"
   ]
  },
  {
   "cell_type": "code",
   "execution_count": 40,
   "id": "32c9ecb0-0646-4b69-abf2-b5e8047aa17b",
   "metadata": {},
   "outputs": [
    {
     "data": {
      "text/plain": [
       "{(101, 32): 256,\n",
       " (32, 116): 257,\n",
       " (100, 32): 258,\n",
       " (257, 104): 259,\n",
       " (105, 110): 260,\n",
       " (115, 32): 261,\n",
       " (101, 114): 262,\n",
       " (116, 32): 263,\n",
       " (259, 256): 264,\n",
       " (97, 110): 265,\n",
       " (116, 105): 266,\n",
       " (101, 110): 267,\n",
       " (111, 110): 268,\n",
       " (121, 32): 269,\n",
       " (97, 114): 270,\n",
       " (105, 114): 271,\n",
       " (46, 32): 272,\n",
       " (101, 100): 273,\n",
       " (111, 32): 274,\n",
       " (101, 108): 275}"
      ]
     },
     "execution_count": 40,
     "metadata": {},
     "output_type": "execute_result"
    }
   ],
   "source": [
    "merges"
   ]
  },
  {
   "cell_type": "code",
   "execution_count": 41,
   "id": "393a1130-afa4-4b9a-8ff0-4336107fdf5f",
   "metadata": {},
   "outputs": [
    {
     "name": "stdout",
     "output_type": "stream",
     "text": [
      "[104, 275, 108, 274, 119, 111, 114, 108, 100]\n"
     ]
    }
   ],
   "source": [
    "def encode(text):\n",
    "  # given a string, return list of integers (the tokens)\n",
    "  tokens = list(text.encode(\"utf-8\"))\n",
    "  while len(tokens) >= 2:\n",
    "    stats = get_stats(tokens)\n",
    "    pair = min(stats, key=lambda p: merges.get(p, float(\"inf\")))\n",
    "    if pair not in merges:\n",
    "      break # nothing else can be merged\n",
    "    idx = merges[pair]\n",
    "    tokens = merge(tokens, pair, idx)\n",
    "  return tokens\n",
    "\n",
    "print(encode(\"hello world\"))"
   ]
  },
  {
   "cell_type": "code",
   "execution_count": 42,
   "id": "c60391e2-526b-46ba-a3e7-8bce25fa9312",
   "metadata": {},
   "outputs": [
    {
     "name": "stdout",
     "output_type": "stream",
     "text": [
      "hello world\n"
     ]
    }
   ],
   "source": [
    "print(decode(encode(\"hello world\")))"
   ]
  },
  {
   "cell_type": "code",
   "execution_count": 43,
   "id": "a15f2016-72bc-4067-8c4c-d46940d2c4fd",
   "metadata": {},
   "outputs": [
    {
     "name": "stdout",
     "output_type": "stream",
     "text": [
      "['Hello', \"'ve\", ' world', '123', ' how', \"'s\", '  ', ' 124324235235532', 'are', '             ', ' you', '!!!?', '          ']\n"
     ]
    }
   ],
   "source": [
    "import regex as re\n",
    "gpt2pat = re.compile(r\"\"\"'s|'t|'re|'ve|'m|'ll|'d| ?\\p{L}+| ?\\p{N}+| ?[^\\s\\p{L}\\p{N}]+|\\s+(?!\\S)|\\s+\"\"\")\n",
    "\n",
    "print(re.findall(gpt2pat, \"Hello've world123 how's   124324235235532are              you!!!?          \"))"
   ]
  },
  {
   "cell_type": "markdown",
   "id": "77c4f724-81d8-467a-a322-fc63e848fd03",
   "metadata": {},
   "source": [
    "cl100k_base(gpt4)"
   ]
  },
  {
   "cell_type": "code",
   "execution_count": 44,
   "id": "777e2f7b-7a0b-48a7-a9b2-cd06f6b3769f",
   "metadata": {},
   "outputs": [
    {
     "name": "stdout",
     "output_type": "stream",
     "text": [
      "['Hello', \"'ve\", ' world', '123', ' how', \"'s\", ' ', '113', '242', '313', '412', '121', '4', 'are', '         ', ' you', '!!!?', '          ']\n"
     ]
    }
   ],
   "source": [
    "gpt2pat = re.compile(r\"\"\"'(?i:[sdmt]|ll|ve|re)|[^\\r\\n\\p{L}\\p{N}]?+\\p{L}++|\\p{N}{1,3}+| ?[^\\s\\p{L}\\p{N}]++[\\r\\n]*+|\\s++$|\\s*[\\r\\n]|\\s+(?!\\S)|\\s\"\"\")\n",
    "\n",
    "print(re.findall(gpt2pat, \"Hello've world123 how's 1132423134121214are          you!!!?          \"))\n"
   ]
  },
  {
   "cell_type": "code",
   "execution_count": null,
   "id": "7a2da3a6-b539-4926-8f32-cd45d5b552f4",
   "metadata": {},
   "outputs": [],
   "source": []
  }
 ],
 "metadata": {
  "kernelspec": {
   "display_name": "Python 3 (ipykernel)",
   "language": "python",
   "name": "python3"
  },
  "language_info": {
   "codemirror_mode": {
    "name": "ipython",
    "version": 3
   },
   "file_extension": ".py",
   "mimetype": "text/x-python",
   "name": "python",
   "nbconvert_exporter": "python",
   "pygments_lexer": "ipython3",
   "version": "3.12.9"
  }
 },
 "nbformat": 4,
 "nbformat_minor": 5
}
